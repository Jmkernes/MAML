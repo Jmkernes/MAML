{
 "cells": [
  {
   "cell_type": "markdown",
   "id": "6469784c-d137-40df-98dd-d4b82fea9164",
   "metadata": {},
   "source": [
    "# Model Agnostic Meta Learning (MAML)\n",
    "\n",
    "Notebook for the Medium post. Based on the paper\n",
    "\n",
    "https://arxiv.org/abs/1703.03400"
   ]
  },
  {
   "cell_type": "code",
   "execution_count": 1,
   "id": "34b57987-9d1e-4515-b8b2-05b68c29f70a",
   "metadata": {},
   "outputs": [],
   "source": [
    "import torch\n",
    "from torch import nn\n",
    "import torch.nn.functional as F\n",
    "\n",
    "import numpy as np\n",
    "\n",
    "import time\n",
    "from collections import OrderedDict\n",
    "\n",
    "from utils import (\n",
    "    LossMetric, \n",
    "    print_bar,\n",
    ")\n",
    "\n",
    "from data import (\n",
    "    Dataset,\n",
    "    SinusoidGenerator,\n",
    ")\n",
    "\n",
    "from meta import (\n",
    "    LossImportance, \n",
    "    parse_attr_name,\n",
    "    set_model_attrs,\n",
    "    meta_forward,\n",
    "    meta_adapt,\n",
    ")"
   ]
  },
  {
   "cell_type": "markdown",
   "id": "f24d3291-bc45-45fe-90fb-d06e6767c0d8",
   "metadata": {},
   "source": [
    "### Hyperparameters"
   ]
  },
  {
   "cell_type": "code",
   "execution_count": 2,
   "id": "10a24c7e-9141-43f1-b7cc-1fc9937b20e3",
   "metadata": {},
   "outputs": [],
   "source": [
    "batch_size = 32\n",
    "num_epochs = 50\n",
    "inner_train_steps = 5     # number of train steps for inner loop\n",
    "init_lr = 1e-2            # initial learning rate for learnable lr's.\n",
    "inner_lr = 1e-2           # lr during train step\n",
    "outer_lr = 1e-2           # lr during meta step\n",
    "use_trainable_lrs = True  # self explanatory\n",
    "use_second_order = True   # use second order derivatives"
   ]
  },
  {
   "cell_type": "markdown",
   "id": "c7d79fa4-98da-411b-991d-539a2fd3b230",
   "metadata": {},
   "source": [
    "### Model creation\n",
    "\n",
    "We're fitting sine functions (on a fixed interval), so a simple 3 layer feed forward net is good enough to do the job."
   ]
  },
  {
   "cell_type": "code",
   "execution_count": 3,
   "id": "38d1fe8c-19a1-4776-b183-043236faad51",
   "metadata": {},
   "outputs": [],
   "source": [
    "loss_fn = nn.MSELoss()\n",
    "\n",
    "loader = torch.utils.data.DataLoader(Dataset(), batch_size)\n",
    "\n",
    "model = nn.Sequential(\n",
    "    nn.Linear(1, 40), \n",
    "    nn.ReLU(), \n",
    "    nn.Linear(40, 40), \n",
    "    nn.ReLU(), \n",
    "    nn.Linear(40, 1)\n",
    ")\n",
    "\n",
    "trainable_lrs = OrderedDict({\n",
    "    key.replace('.','-'): nn.Parameter(\n",
    "        data=torch.ones(inner_train_steps, requires_grad=use_trainable_lrs) * init_lr,\n",
    "        requires_grad=True\n",
    "    )\n",
    "    for key, param in model.named_parameters()\n",
    "})\n",
    "\n",
    "optimizer_lr = torch.optim.Adam(trainable_lrs.values(), lr=inner_lr)\n",
    "optimizer = torch.optim.Adam(model.parameters(), lr=outer_lr)"
   ]
  },
  {
   "cell_type": "markdown",
   "id": "a9abcc35-8283-46d3-8175-c7ecef25a17f",
   "metadata": {},
   "source": [
    "### Train"
   ]
  },
  {
   "cell_type": "code",
   "execution_count": 5,
   "id": "e6653f13-fd3d-43e3-8749-0d3a41473ad5",
   "metadata": {},
   "outputs": [
    {
     "name": "stdout",
     "output_type": "stream",
     "text": [
      "Epoch: 1. Iter: 16/800  [====================>]  Loss: 12.6451. Time: 5.7 iter/s, 138 remaining.\n",
      "Epoch: 2. Iter: 32/800  [====================>]  Loss: 9.5140. Time: 5.7 iter/s, 135 remaining..\n",
      "Epoch: 3. Iter: 48/800  [====================>]  Loss: 7.8628. Time: 5.7 iter/s, 132 remaining.\n",
      "Epoch: 4. Iter: 64/800  [====================>]  Loss: 6.7191. Time: 5.7 iter/s, 130 remaining.\n",
      "Epoch: 5. Iter: 80/800  [====================>]  Loss: 5.8362. Time: 5.7 iter/s, 127 remaining.\n",
      "Epoch: 6. Iter: 96/800  [====================>]  Loss: 5.1402. Time: 5.6 iter/s, 125 remaining.\n",
      "Epoch: 7. Iter: 112/800  [====================>]  Loss: 4.5728. Time: 5.6 iter/s, 124 remaining.\n",
      "Epoch: 8. Iter: 128/800  [====================>]  Loss: 4.1013. Time: 5.6 iter/s, 121 remaining.\n",
      "Epoch: 9. Iter: 144/800  [====================>]  Loss: 3.7331. Time: 5.6 iter/s, 118 remaining.\n",
      "Epoch: 10. Iter: 160/800  [====================>]  Loss: 3.4245. Time: 5.5 iter/s, 116 remaining.\n",
      "Epoch: 11. Iter: 176/800  [====================>]  Loss: 3.1600. Time: 5.5 iter/s, 113 remaining.\n",
      "Epoch: 12. Iter: 192/800  [====================>]  Loss: 2.9262. Time: 5.5 iter/s, 111 remaining.\n",
      "Epoch: 13. Iter: 208/800  [====================>]  Loss: 2.7220. Time: 5.5 iter/s, 109 remaining.\n",
      "Epoch: 14. Iter: 224/800  [====================>]  Loss: 2.5442. Time: 5.5 iter/s, 106 remaining.\n",
      "Epoch: 15. Iter: 240/800  [====================>]  Loss: 2.4182. Time: 5.5 iter/s, 103 remaining.\n",
      "Epoch: 16. Iter: 256/800  [====================>]  Loss: 2.2888. Time: 5.4 iter/s, 100 remaining.\n",
      "Epoch: 17. Iter: 272/800  [====================>]  Loss: 2.1667. Time: 5.4 iter/s, 97 remaining..\n",
      "Epoch: 18. Iter: 288/800  [====================>]  Loss: 2.0551. Time: 5.4 iter/s, 95 remaining.\n",
      "Epoch: 19. Iter: 304/800  [====================>]  Loss: 1.9533. Time: 5.4 iter/s, 92 remaining.\n",
      "Epoch: 20. Iter: 320/800  [====================>]  Loss: 1.8611. Time: 5.4 iter/s, 89 remaining.\n",
      "Epoch: 21. Iter: 336/800  [====================>]  Loss: 1.7779. Time: 5.4 iter/s, 86 remaining.\n",
      "Epoch: 22. Iter: 352/800  [====================>]  Loss: 1.7014. Time: 5.3 iter/s, 84 remaining.\n",
      "Epoch: 23. Iter: 368/800  [====================>]  Loss: 1.6311. Time: 5.2 iter/s, 83 remaining.\n",
      "Epoch: 24. Iter: 384/800  [====================>]  Loss: 1.5671. Time: 5.1 iter/s, 81 remaining.\n",
      "Epoch: 25. Iter: 400/800  [====================>]  Loss: 1.5071. Time: 5.1 iter/s, 79 remaining.\n",
      "Epoch: 26. Iter: 416/800  [====================>]  Loss: 1.4514. Time: 5.0 iter/s, 77 remaining.\n",
      "Epoch: 27. Iter: 432/800  [====================>]  Loss: 1.4001. Time: 5.0 iter/s, 74 remaining.\n",
      "Epoch: 28. Iter: 448/800  [====================>]  Loss: 1.3540. Time: 5.0 iter/s, 71 remaining.\n",
      "Epoch: 29. Iter: 464/800  [====================>]  Loss: 1.3108. Time: 5.0 iter/s, 68 remaining.\n",
      "Epoch: 30. Iter: 480/800  [====================>]  Loss: 1.2697. Time: 5.0 iter/s, 65 remaining.\n",
      "Epoch: 31. Iter: 496/800  [====================>]  Loss: 1.2306. Time: 5.0 iter/s, 62 remaining.\n",
      "Epoch: 32. Iter: 512/800  [====================>]  Loss: 1.1938. Time: 4.9 iter/s, 59 remaining.\n",
      "Epoch: 33. Iter: 528/800  [====================>]  Loss: 1.1589. Time: 4.9 iter/s, 56 remaining.\n",
      "Epoch: 34. Iter: 544/800  [====================>]  Loss: 1.1262. Time: 4.9 iter/s, 52 remaining.\n",
      "Epoch: 35. Iter: 560/800  [====================>]  Loss: 1.0952. Time: 4.9 iter/s, 49 remaining.\n",
      "Epoch: 36. Iter: 576/800  [====================>]  Loss: 1.0662. Time: 4.9 iter/s, 46 remaining.\n",
      "Epoch: 37. Iter: 592/800  [====================>]  Loss: 1.0386. Time: 4.9 iter/s, 43 remaining.\n",
      "Epoch: 38. Iter: 608/800  [====================>]  Loss: 1.0121. Time: 4.9 iter/s, 40 remaining.\n",
      "Epoch: 39. Iter: 624/800  [====================>]  Loss: 0.9871. Time: 4.9 iter/s, 36 remaining.\n",
      "Epoch: 40. Iter: 640/800  [====================>]  Loss: 0.9632. Time: 4.9 iter/s, 33 remaining.\n",
      "Epoch: 41. Iter: 656/800  [====================>]  Loss: 0.9404. Time: 4.9 iter/s, 30 remaining.\n",
      "Epoch: 42. Iter: 672/800  [====================>]  Loss: 0.9188. Time: 4.9 iter/s, 27 remaining.\n",
      "Epoch: 43. Iter: 688/800  [====================>]  Loss: 0.8981. Time: 4.9 iter/s, 23 remaining.\n",
      "Epoch: 44. Iter: 704/800  [====================>]  Loss: 0.8783. Time: 4.9 iter/s, 20 remaining.\n",
      "Epoch: 45. Iter: 720/800  [====================>]  Loss: 0.8595. Time: 4.9 iter/s, 17 remaining.\n",
      "Epoch: 46. Iter: 736/800  [====================>]  Loss: 0.8415. Time: 4.9 iter/s, 14 remaining.\n",
      "Epoch: 47. Iter: 752/800  [====================>]  Loss: 0.8243. Time: 4.9 iter/s, 10 remaining.\n",
      "Epoch: 48. Iter: 768/800  [====================>]  Loss: 0.8076. Time: 4.9 iter/s, 7 remaining..\n",
      "Epoch: 49. Iter: 784/800  [====================>]  Loss: 0.7917. Time: 4.9 iter/s, 4 remaining.\n",
      "Epoch: 50. Iter: 800/800  [====================>]  Loss: 0.7765. Time: 4.9 iter/s, 0 remaining.\n"
     ]
    }
   ],
   "source": [
    "ds_size = len(loader)\n",
    "loss_metric = LossMetric()\n",
    "loss_importance = LossImportance(K=inner_train_steps, train_steps=ds_size * num_epochs)\n",
    "history = {'loss':[]}\n",
    "\n",
    "start = time.time()\n",
    "GLOB_STEP = 0\n",
    "\n",
    "for epoch in range(1, num_epochs+1):\n",
    "    for step, (x_batch, y_batch) in enumerate(loader):\n",
    "        \n",
    "        losses = []\n",
    "        \n",
    "        optimizer.zero_grad()\n",
    "        optimizer_lr.zero_grad()\n",
    "        \n",
    "        for i in range(x_batch.shape[0]):\n",
    "            x = x_batch[i].reshape(-1, 1)\n",
    "            y = y_batch[i].reshape(-1, 1)\n",
    "            \n",
    "            loss, param_dict = meta_forward(\n",
    "                model=model, \n",
    "                x=x, \n",
    "                y=y,\n",
    "                loss_fn=loss_fn,\n",
    "                loss_importance=loss_importance(GLOB_STEP),\n",
    "                trainable_lrs=trainable_lrs,\n",
    "                K=inner_train_steps,\n",
    "                create_graph=use_second_order\n",
    "            )\n",
    "            \n",
    "            losses.append(loss)\n",
    "            \n",
    "        loss = torch.mean(torch.stack(losses))\n",
    "        loss_metric.update(loss)\n",
    "        \n",
    "        GLOB_STEP += 1\n",
    "        print_bar(step, GLOB_STEP, ds_size, loss_metric, start, num_epochs, epoch)\n",
    "        history['loss'].append(loss_metric.value())\n",
    "        \n",
    "        loss.backward()\n",
    "        \n",
    "        optimizer.step()\n",
    "        optimizer_lr.step()"
   ]
  },
  {
   "cell_type": "markdown",
   "id": "5d6dabf8-32a5-4427-b1fb-15d64ac03e4f",
   "metadata": {},
   "source": [
    "## Evaluate\n",
    "\n",
    "We create a new task from the distribution using the same SinusoidGenerator() function as we did during training.\n",
    "\n",
    "This is unseen, so we now train inner_train_steps on the generated data, then test on some test data generated from the same distribution. We show the result for the first K train steps.\n",
    "\n",
    "In practice, we would just use our meta_adapt function, but here we want all of the intermediate results so we can plot progress!"
   ]
  },
  {
   "cell_type": "code",
   "execution_count": 11,
   "id": "9d78f5e1-38b2-4dcb-a0ec-2e39d290ca2f",
   "metadata": {},
   "outputs": [
    {
     "data": {
      "image/png": "[encoded data removed]",
      "text/plain": [
       "<Figure size 432x288 with 1 Axes>"
      ]
     },
     "metadata": {
      "needs_background": "light"
     },
     "output_type": "display_data"
    }
   ],
   "source": [
    "from copy import deepcopy\n",
    "import matplotlib.pyplot as plt\n",
    "import itertools as it\n",
    "\n",
    "# Make new data by pulling a task from the same distribution\n",
    "sg = SinusoidGenerator()\n",
    "x = np.linspace(-5.0, 5.0, 100)\n",
    "\n",
    "# Let's not mess with our train model, so we copy it.\n",
    "model_copy = deepcopy(model)\n",
    "param_dict = OrderedDict(model_copy.named_parameters())\n",
    "\n",
    "# This will show the base model, before it's adapted\n",
    "plt.plot(x, sg(x), 'k--', label='ground truth')\n",
    "\n",
    "x_tens = torch.tensor(x, requires_grad=False).reshape(-1,1).float()\n",
    "y_tens = torch.tensor(sg(x), requires_grad=False).reshape(-1,1).float()\n",
    "\n",
    "# cycle through colors, quick way to do so\n",
    "color = it.cycle(['r','b','g','y','k'])\n",
    "\n",
    "for i in range(inner_train_steps):\n",
    "    name = f\"{i}-shot\"\n",
    "    yhat = model_copy(x_tens)\n",
    "    pred = np.squeeze(yhat.detach().numpy())\n",
    "    loss = loss_fn(yhat, y_tens)\n",
    "    \n",
    "    plt.plot(x, pred, c=next(color), label=name)\n",
    "    \n",
    "    grads = torch.autograd.grad(loss, param_dict.values(), create_graph=False)\n",
    "    \n",
    "    for (name, param), grad in zip(param_dict.items(), grads):\n",
    "        lr = F.relu(trainable_lrs[name.replace('.','-')][i])\n",
    "        param_dict[name] = param - lr * grad\n",
    "        \n",
    "    set_model_attrs(model_copy, param_dict)\n",
    "\n",
    "plt.legend()\n",
    "plt.title('MAML after 4 grad steps')\n",
    "plt.show()"
   ]
  },
  {
   "cell_type": "code",
   "execution_count": null,
   "id": "e9038813-d0f9-4ca9-ac0a-7440226f6ee6",
   "metadata": {},
   "outputs": [],
   "source": []
  }
 ],
 "metadata": {
  "kernelspec": {
   "display_name": "Python 3",
   "language": "python",
   "name": "python3"
  },
  "language_info": {
   "codemirror_mode": {
    "name": "ipython",
    "version": 3
   },
   "file_extension": ".py",
   "mimetype": "text/x-python",
   "name": "python",
   "nbconvert_exporter": "python",
   "pygments_lexer": "ipython3",
   "version": "3.8.3"
  }
 },
 "nbformat": 4,
 "nbformat_minor": 5
}
